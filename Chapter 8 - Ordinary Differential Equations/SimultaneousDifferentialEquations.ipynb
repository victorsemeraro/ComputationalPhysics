{
 "cells": [
  {
   "cell_type": "markdown",
   "id": "6e9224b7",
   "metadata": {},
   "source": [
    "# <center> <u> Differential Equations with More than One Variable </u> </center> "
   ]
  },
  {
   "cell_type": "code",
   "execution_count": 2,
   "id": "01b23398",
   "metadata": {},
   "outputs": [],
   "source": [
    "import numpy as np\n",
    "from numba import jit \n",
    "import seaborn as sns\n",
    "import matplotlib.pyplot as plt "
   ]
  },
  {
   "cell_type": "code",
   "execution_count": 3,
   "id": "c78ae9b1",
   "metadata": {},
   "outputs": [],
   "source": [
    "sns.set_theme(\n",
    "    style = \"darkgrid\",\n",
    "    palette = \"bright\",\n",
    ")\n",
    "\n",
    "plt.rc('figure', figsize = (10, 5))"
   ]
  },
  {
   "cell_type": "markdown",
   "id": "963173d6",
   "metadata": {},
   "source": [
    "## <center> $ \\frac{dx}{dt} = xy - x, \\frac{dy}{dt} = y - xy + sin^{2} \\omega t $ </center>"
   ]
  },
  {
   "cell_type": "code",
   "execution_count": null,
   "id": "e5069ff4",
   "metadata": {},
   "outputs": [],
   "source": []
  },
  {
   "cell_type": "code",
   "execution_count": null,
   "id": "f6a55efe",
   "metadata": {},
   "outputs": [],
   "source": []
  },
  {
   "cell_type": "code",
   "execution_count": null,
   "id": "c21db02a",
   "metadata": {},
   "outputs": [],
   "source": []
  },
  {
   "cell_type": "code",
   "execution_count": null,
   "id": "83a7df9d",
   "metadata": {},
   "outputs": [],
   "source": []
  },
  {
   "cell_type": "code",
   "execution_count": null,
   "id": "b01aa73b",
   "metadata": {},
   "outputs": [],
   "source": []
  },
  {
   "cell_type": "code",
   "execution_count": null,
   "id": "8ced0fc8",
   "metadata": {},
   "outputs": [],
   "source": []
  },
  {
   "cell_type": "code",
   "execution_count": null,
   "id": "9627de14",
   "metadata": {},
   "outputs": [],
   "source": []
  },
  {
   "cell_type": "code",
   "execution_count": null,
   "id": "fb01c0c4",
   "metadata": {},
   "outputs": [],
   "source": []
  }
 ],
 "metadata": {
  "kernelspec": {
   "display_name": "Python 3 (ipykernel)",
   "language": "python",
   "name": "python3"
  },
  "language_info": {
   "codemirror_mode": {
    "name": "ipython",
    "version": 3
   },
   "file_extension": ".py",
   "mimetype": "text/x-python",
   "name": "python",
   "nbconvert_exporter": "python",
   "pygments_lexer": "ipython3",
   "version": "3.10.2"
  }
 },
 "nbformat": 4,
 "nbformat_minor": 5
}
