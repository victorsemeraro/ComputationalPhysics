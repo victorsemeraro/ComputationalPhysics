{
 "cells": [
  {
   "cell_type": "markdown",
   "id": "6ece263e-c24d-4f7b-bfa1-098cf3605eec",
   "metadata": {},
   "source": [
    "# <center> <u> Second Order Differential Equations  </u> </center>"
   ]
  },
  {
   "cell_type": "code",
   "execution_count": 1,
   "id": "737c274f",
   "metadata": {},
   "outputs": [],
   "source": [
    "import numpy as np\n",
    "from numba import jit \n",
    "import seaborn as sns\n",
    "import matplotlib.pyplot as plt "
   ]
  },
  {
   "cell_type": "code",
   "execution_count": 2,
   "id": "5011a3a3",
   "metadata": {},
   "outputs": [],
   "source": [
    "sns.set_theme(\n",
    "    style = \"darkgrid\",\n",
    "    palette = \"bright\",\n",
    ")\n",
    "\n",
    "plt.rc('figure', figsize = (10, 5))"
   ]
  },
  {
   "cell_type": "markdown",
   "id": "36b15298-d49e-40b6-bdd8-516055199624",
   "metadata": {},
   "source": [
    "## <center> General Second Order Differential Equation </center> \n",
    "\n",
    "## <center> $ \\frac{\\partial^{2} x}{dt^{2}} = f(x, \\frac{dx}{dt}, t) $ </center> \n",
    "\n",
    "## <center> For Instance </center>\n",
    "\n",
    "## <center> $ \\frac{\\partial^{2} x}{dt^{2}} = \\frac{1}{x} (\\frac{dx}{dt})^{2} + 2 \\frac{dx}{dt} - x^{3} e^{-4t} $ </center> \n",
    "\n",
    "## <center> $ \\frac{dx}{dt} = y $ </center> \n",
    "\n",
    "## <center> $ \\frac{dy}{dt} = f(x, y, t) $ </center>"
   ]
  },
  {
   "cell_type": "code",
   "execution_count": null,
   "id": "f6ea5b1f-6abb-4ba5-8eef-740ab00eadff",
   "metadata": {},
   "outputs": [],
   "source": []
  },
  {
   "cell_type": "code",
   "execution_count": null,
   "id": "f8446281-2a70-427b-870e-cd788f930d8f",
   "metadata": {},
   "outputs": [],
   "source": []
  },
  {
   "cell_type": "code",
   "execution_count": null,
   "id": "27a62451-0a9d-48de-9318-b94172485c64",
   "metadata": {},
   "outputs": [],
   "source": []
  },
  {
   "cell_type": "markdown",
   "id": "9acd8c2e-11ad-4cad-8bc2-050bc1948787",
   "metadata": {},
   "source": [
    "## <center> Non Linear Pendulum </center>\n",
    "\n",
    "## <center> $ m \\ell \\frac{d^{2} \\theta}{dt^{2}} = -mg \\sin \\theta $ </center>\n",
    "\n",
    "## <center> $ \\frac{d^{2} \\theta}{dt^{2}} = -\\frac{g}{\\ell} \\sin \\theta $ </center>\n",
    "\n",
    "## <center> Define New Varialbe </center> \n",
    "\n",
    "## <center> $ \\frac{d \\theta}{dt} = \\omega $ </center> \n",
    "\n",
    "## <center> $ \\frac{d \\omega}{dt} = -\\frac{g}{\\ell} \\sin \\theta $ </center>"
   ]
  },
  {
   "cell_type": "code",
   "execution_count": 3,
   "id": "75b0bc13-5852-4297-91e1-8e9009a33700",
   "metadata": {},
   "outputs": [],
   "source": [
    "g = 9.81\n",
    "l = 0.1\n",
    "\n",
    "@jit(nopython = True)\n",
    "def f(r, t):\n",
    "    \"\"\"\n",
    "\n",
    "    \"\"\"\n",
    "    \n",
    "    theta = r[0]\n",
    "    omega = r[1]\n",
    "    ftheta = omega \n",
    "    fomega = -(g / l) * np.sin(theta)\n",
    "    \n",
    "    return np.array([ftheta, fomega])"
   ]
  },
  {
   "cell_type": "code",
   "execution_count": null,
   "id": "8157277e-627c-4c0d-a46c-73148b2348f1",
   "metadata": {},
   "outputs": [],
   "source": []
  },
  {
   "cell_type": "code",
   "execution_count": null,
   "id": "1a2fa55b-ace7-4f69-a3cf-8c4867a8b5cd",
   "metadata": {},
   "outputs": [],
   "source": []
  },
  {
   "cell_type": "code",
   "execution_count": null,
   "id": "6e1fa759-1647-4869-b090-e6a7794b62f1",
   "metadata": {},
   "outputs": [],
   "source": []
  },
  {
   "cell_type": "markdown",
   "id": "c279af33-c50b-4bf6-aa53-9a56e99c9936",
   "metadata": {},
   "source": [
    "## <center> General Third Order Differential Equation </center> \n",
    "\n",
    "## <center> $ \\frac{\\partial^{3} x}{dt^{3}} = f(x, \\frac{dx}{dt}, \\frac{d^{2} x}{dt^{2}}, t) $ </center> \n",
    "\n",
    "## <center> $ \\frac{dx}{dt} = y, \\frac{dy}{dt} = z $ </center> \n",
    "\n",
    "## <center> $ \\frac{dz}{dt} = f(x, y, z, t) $ </center> "
   ]
  },
  {
   "cell_type": "code",
   "execution_count": null,
   "id": "393cf4a7",
   "metadata": {},
   "outputs": [],
   "source": []
  },
  {
   "cell_type": "code",
   "execution_count": null,
   "id": "b1b2dc83",
   "metadata": {},
   "outputs": [],
   "source": []
  },
  {
   "cell_type": "code",
   "execution_count": null,
   "id": "74bdb669",
   "metadata": {},
   "outputs": [],
   "source": []
  },
  {
   "cell_type": "code",
   "execution_count": null,
   "id": "40606101",
   "metadata": {},
   "outputs": [],
   "source": []
  },
  {
   "cell_type": "code",
   "execution_count": null,
   "id": "61c7fb20-cc69-4f63-a182-2b57b21bab55",
   "metadata": {},
   "outputs": [],
   "source": []
  },
  {
   "cell_type": "code",
   "execution_count": null,
   "id": "d9533f1c-beac-41e0-a29d-a99af37ef1e2",
   "metadata": {},
   "outputs": [],
   "source": []
  },
  {
   "cell_type": "code",
   "execution_count": null,
   "id": "013ba428-0ff9-43e7-a5a0-32d7abbe7a68",
   "metadata": {},
   "outputs": [],
   "source": []
  }
 ],
 "metadata": {
  "kernelspec": {
   "display_name": "Python 3 (ipykernel)",
   "language": "python",
   "name": "python3"
  },
  "language_info": {
   "codemirror_mode": {
    "name": "ipython",
    "version": 3
   },
   "file_extension": ".py",
   "mimetype": "text/x-python",
   "name": "python",
   "nbconvert_exporter": "python",
   "pygments_lexer": "ipython3",
   "version": "3.10.2"
  }
 },
 "nbformat": 4,
 "nbformat_minor": 5
}
