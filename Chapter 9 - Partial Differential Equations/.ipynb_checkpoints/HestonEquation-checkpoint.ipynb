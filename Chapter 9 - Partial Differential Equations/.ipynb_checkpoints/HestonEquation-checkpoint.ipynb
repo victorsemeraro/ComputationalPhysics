{
 "cells": [
  {
   "cell_type": "code",
   "execution_count": null,
   "id": "3b2eb7ee-c6f0-4094-84c9-4d0bcb34a0a1",
   "metadata": {},
   "outputs": [],
   "source": []
  },
  {
   "cell_type": "code",
   "execution_count": null,
   "id": "4c3d2b63-8057-4915-bc63-39f0f58c545f",
   "metadata": {},
   "outputs": [],
   "source": []
  },
  {
   "cell_type": "code",
   "execution_count": null,
   "id": "661fbccf-f71c-4f6e-a51a-6560e5853003",
   "metadata": {},
   "outputs": [],
   "source": []
  },
  {
   "cell_type": "code",
   "execution_count": null,
   "id": "381af45e-61d9-41ca-80eb-bd584891592c",
   "metadata": {},
   "outputs": [],
   "source": []
  },
  {
   "cell_type": "code",
   "execution_count": null,
   "id": "d9620ee9-c1d8-48c8-b9db-7040be14ad5c",
   "metadata": {},
   "outputs": [],
   "source": []
  },
  {
   "cell_type": "code",
   "execution_count": null,
   "id": "5890d60a-4bf2-4246-8b4d-a47a97411894",
   "metadata": {},
   "outputs": [],
   "source": []
  },
  {
   "cell_type": "code",
   "execution_count": null,
   "id": "ec1f7df1-1f94-4f2f-a370-5f538ab408b6",
   "metadata": {},
   "outputs": [],
   "source": []
  },
  {
   "cell_type": "code",
   "execution_count": null,
   "id": "918ae0c3-1dcd-4af2-b2c9-a0536f91abad",
   "metadata": {},
   "outputs": [],
   "source": []
  },
  {
   "cell_type": "code",
   "execution_count": null,
   "id": "14049e7c-350a-4e3c-b968-66415a475b0a",
   "metadata": {},
   "outputs": [],
   "source": []
  }
 ],
 "metadata": {
  "kernelspec": {
   "display_name": "Python 3 (ipykernel)",
   "language": "python",
   "name": "python3"
  },
  "language_info": {
   "codemirror_mode": {
    "name": "ipython",
    "version": 3
   },
   "file_extension": ".py",
   "mimetype": "text/x-python",
   "name": "python",
   "nbconvert_exporter": "python",
   "pygments_lexer": "ipython3",
   "version": "3.10.2"
  }
 },
 "nbformat": 4,
 "nbformat_minor": 5
}
