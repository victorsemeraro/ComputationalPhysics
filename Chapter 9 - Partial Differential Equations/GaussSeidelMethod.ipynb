{
 "cells": [
  {
   "cell_type": "markdown",
   "id": "792c2e54-e974-4711-ba36-d73dfb983f0f",
   "metadata": {},
   "source": [
    "# <center> <u> Gauss Seidel Method </u> </center> "
   ]
  },
  {
   "cell_type": "code",
   "execution_count": null,
   "id": "549bb471-3f8c-442f-83a8-ba8f3941ba98",
   "metadata": {},
   "outputs": [],
   "source": []
  },
  {
   "cell_type": "code",
   "execution_count": null,
   "id": "7223dee1-c788-49fa-9f73-d7c58529d6a4",
   "metadata": {},
   "outputs": [],
   "source": []
  },
  {
   "cell_type": "code",
   "execution_count": null,
   "id": "1522a5f1-78db-4532-be9e-7245a68ec902",
   "metadata": {},
   "outputs": [],
   "source": []
  },
  {
   "cell_type": "code",
   "execution_count": null,
   "id": "35a4c3c1-fc8d-4d9a-a3bc-7c4a03211690",
   "metadata": {},
   "outputs": [],
   "source": []
  },
  {
   "cell_type": "code",
   "execution_count": null,
   "id": "f8700f8d-1cdc-45d2-b097-d613182b3241",
   "metadata": {},
   "outputs": [],
   "source": []
  },
  {
   "cell_type": "code",
   "execution_count": null,
   "id": "b50f60a9-0ca0-4b4c-b1e3-72629c9efed2",
   "metadata": {},
   "outputs": [],
   "source": []
  },
  {
   "cell_type": "code",
   "execution_count": null,
   "id": "ebd59ff3-c6c3-4260-b9d8-124de104f163",
   "metadata": {},
   "outputs": [],
   "source": []
  },
  {
   "cell_type": "code",
   "execution_count": null,
   "id": "12cb4e7e-07da-4169-8010-d608476f8c40",
   "metadata": {},
   "outputs": [],
   "source": []
  },
  {
   "cell_type": "code",
   "execution_count": null,
   "id": "ee27d4e2-2bc3-4a2f-bd55-7bccf68a140d",
   "metadata": {},
   "outputs": [],
   "source": []
  },
  {
   "cell_type": "code",
   "execution_count": null,
   "id": "c53411b5-65fe-4e9d-9e4f-ad261500d331",
   "metadata": {},
   "outputs": [],
   "source": []
  },
  {
   "cell_type": "code",
   "execution_count": null,
   "id": "dc54c5ed-ec99-44a5-aa39-efcb4f6f6ea4",
   "metadata": {},
   "outputs": [],
   "source": []
  }
 ],
 "metadata": {
  "kernelspec": {
   "display_name": "Python 3 (ipykernel)",
   "language": "python",
   "name": "python3"
  },
  "language_info": {
   "codemirror_mode": {
    "name": "ipython",
    "version": 3
   },
   "file_extension": ".py",
   "mimetype": "text/x-python",
   "name": "python",
   "nbconvert_exporter": "python",
   "pygments_lexer": "ipython3",
   "version": "3.10.2"
  }
 },
 "nbformat": 4,
 "nbformat_minor": 5
}
