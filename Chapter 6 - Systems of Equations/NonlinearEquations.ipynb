{
 "cells": [
  {
   "cell_type": "markdown",
   "id": "c132755d",
   "metadata": {},
   "source": [
    "# <center> <u> NonLinear Equations </u> </center> \n",
    "\n",
    "## 1. <u> Relaxation Method </u> \n",
    "\n",
    "#### - Iterative Algorithm\n",
    "#### - \n",
    "\n",
    "## 2. <u> Bisection Method </u> \n",
    "\n",
    "#### - Bracketing Algorithm\n",
    "#### - \n",
    "\n",
    "## 3. <u> Newtons Method </u> \n",
    "\n",
    "#### - Derivative Algorithm\n",
    "#### - \n",
    "\n",
    "## 4. <u> Halley Method </u>\n",
    "\n",
    "#### - Second Order Derivative Algorithm \n",
    "#### - \n",
    "\n",
    "## 5. <u> Secant Method </u> \n",
    "\n",
    "#### - Finite Difference Algorithm\n",
    "#### - \n",
    "\n",
    "## 6. <u> Brents Method </u> \n",
    "\n",
    "#### - Hybrid Algorithm\n",
    "#### - \n",
    "\n",
    "## 7. <u> Riddlers Method </u> \n",
    "\n",
    "#### - Hybrid Algorithm\n",
    "#### - "
   ]
  },
  {
   "cell_type": "code",
   "execution_count": 1,
   "id": "018a8228",
   "metadata": {},
   "outputs": [],
   "source": [
    "import numpy as np\n",
    "from numba import jit \n",
    "import seaborn as sns\n",
    "import matplotlib.pyplot as plt "
   ]
  },
  {
   "cell_type": "code",
   "execution_count": 2,
   "id": "7caec475",
   "metadata": {},
   "outputs": [],
   "source": [
    "sns.set_theme(\n",
    "    style = \"darkgrid\",\n",
    "    palette = \"bright\",\n",
    ")\n",
    "\n",
    "plt.rc('figure', figsize = (10, 5))"
   ]
  },
  {
   "cell_type": "markdown",
   "id": "5b5b3fb9",
   "metadata": {},
   "source": [
    "## <center> Relaxation Method </center> "
   ]
  },
  {
   "cell_type": "code",
   "execution_count": 3,
   "id": "6ad03ad5",
   "metadata": {},
   "outputs": [],
   "source": [
    "@jit(nopython = True)\n",
    "def my_func(x):\n",
    "    \n",
    "    return 2 - np.exp(-x)"
   ]
  },
  {
   "cell_type": "code",
   "execution_count": 4,
   "id": "dc36f581",
   "metadata": {},
   "outputs": [],
   "source": [
    "x = np.linspace(-2, 2, 1000)\n",
    "y = my_func(x)"
   ]
  },
  {
   "cell_type": "code",
   "execution_count": 5,
   "id": "d59c864f",
   "metadata": {},
   "outputs": [
    {
     "data": {
      "image/png": "[encoded data removed]",
      "text/plain": [
       "<Figure size 1000x500 with 1 Axes>"
      ]
     },
     "metadata": {},
     "output_type": "display_data"
    }
   ],
   "source": [
    "ax = sns.lineplot(\n",
    "    x = x,\n",
    "    y = y,\n",
    ")\n",
    "\n",
    "plt.show()"
   ]
  },
  {
   "cell_type": "code",
   "execution_count": 6,
   "id": "a350f9d2",
   "metadata": {},
   "outputs": [],
   "source": [
    "@jit(nopython = True)\n",
    "def relaxation_method(func):\n",
    "    \"\"\"\n",
    "    \n",
    "    \"\"\"\n",
    "    x = 1\n",
    "    xn = my_func(x)\n",
    "        \n",
    "    itr_count = 0\n",
    "    max_itr_count = 100\n",
    "\n",
    "    err_tol = 1e-3\n",
    "    \n",
    "    while np.abs(x - xn) > err_tol:\n",
    "        x = xn\n",
    "        xn = func(x)\n",
    "\n",
    "    return xn"
   ]
  },
  {
   "cell_type": "code",
   "execution_count": 7,
   "id": "45e23a96",
   "metadata": {},
   "outputs": [
    {
     "data": {
      "text/plain": [
       "1.841255113911434"
      ]
     },
     "execution_count": 7,
     "metadata": {},
     "output_type": "execute_result"
    }
   ],
   "source": [
    "relaxation_method(my_func)"
   ]
  },
  {
   "cell_type": "markdown",
   "id": "8753fbe8",
   "metadata": {},
   "source": [
    "## <center> Taylor Series Expansion </center> \n",
    "\n",
    "## <center> $ \\sum_{i=0}^{\\infty} \\frac{f^{n}(a)}{n!} (x - a)^{n} $ </center> \n",
    "\n",
    "## <center> $ x^{'} = f(x) = f(x^{*}) + (x - x^{*}) f^{'}(x^{*})$ </center> \n",
    "\n",
    "## <center> $ x^{'} - x^{*} = (x - x^{*}) f^{'}(x^{*}) $ </center>"
   ]
  },
  {
   "cell_type": "markdown",
   "id": "999ac580",
   "metadata": {},
   "source": [
    "## <center> Relaxation Method rate of Convergence </center> "
   ]
  },
  {
   "cell_type": "code",
   "execution_count": null,
   "id": "80a424d7",
   "metadata": {},
   "outputs": [],
   "source": []
  },
  {
   "cell_type": "code",
   "execution_count": null,
   "id": "688b4165",
   "metadata": {},
   "outputs": [],
   "source": []
  },
  {
   "cell_type": "markdown",
   "id": "45bed7b7",
   "metadata": {},
   "source": [
    "## <center> Relaxation Method Two or More Variables </center> "
   ]
  },
  {
   "cell_type": "code",
   "execution_count": null,
   "id": "0dff988a",
   "metadata": {},
   "outputs": [],
   "source": []
  },
  {
   "cell_type": "code",
   "execution_count": null,
   "id": "7d2262ff",
   "metadata": {},
   "outputs": [],
   "source": []
  },
  {
   "cell_type": "code",
   "execution_count": null,
   "id": "802a1fd6",
   "metadata": {},
   "outputs": [],
   "source": []
  },
  {
   "cell_type": "code",
   "execution_count": null,
   "id": "76708603",
   "metadata": {},
   "outputs": [],
   "source": []
  },
  {
   "cell_type": "code",
   "execution_count": null,
   "id": "bacfa86a",
   "metadata": {},
   "outputs": [],
   "source": []
  },
  {
   "cell_type": "markdown",
   "id": "e47baaa6",
   "metadata": {},
   "source": [
    "## <center> Bisection Method </center> "
   ]
  },
  {
   "cell_type": "markdown",
   "id": "6ec2ed16",
   "metadata": {},
   "source": [
    "## <center> $ 5e^{-x} + x - 5 = 0 $ </center> "
   ]
  },
  {
   "cell_type": "code",
   "execution_count": 8,
   "id": "919c56e1",
   "metadata": {},
   "outputs": [],
   "source": [
    "@jit(nopython = True)\n",
    "def weins_displacement_constant(x):\n",
    "    \"\"\"\n",
    "    \n",
    "    \"\"\"\n",
    "    \n",
    "    return 5 * np.exp(-x) + x - 5"
   ]
  },
  {
   "cell_type": "code",
   "execution_count": 9,
   "id": "96f4b90b",
   "metadata": {},
   "outputs": [],
   "source": [
    "x = np.linspace(-2, 7, 1000)\n",
    "y = weins_displacement_constant(x)"
   ]
  },
  {
   "cell_type": "code",
   "execution_count": 10,
   "id": "db1cc93b",
   "metadata": {},
   "outputs": [
    {
     "data": {
      "image/png": "[encoded data removed]",
      "text/plain": [
       "<Figure size 1000x500 with 1 Axes>"
      ]
     },
     "metadata": {},
     "output_type": "display_data"
    }
   ],
   "source": [
    "ax = sns.lineplot(\n",
    "    x = x,\n",
    "    y = y,\n",
    ")\n",
    "\n",
    "ax.set(\n",
    "    title = \"Weins Displacement Constant\",\n",
    ")\n",
    "\n",
    "plt.show()"
   ]
  },
  {
   "cell_type": "code",
   "execution_count": 13,
   "id": "6934d5e8",
   "metadata": {},
   "outputs": [],
   "source": [
    "@jit(nopython = True)\n",
    "def bisection_method(func, a, b):\n",
    "    \"\"\"\n",
    "    \n",
    "    \"\"\"\n",
    "    \n",
    "    err_tol = 1e-7\n",
    "    \n",
    "    c = (a + b) / 2\n",
    "    fc = func(c)\n",
    "    \n",
    "    itr_count = 0\n",
    "    while np.abs(fc) > err_tol:\n",
    "            \n",
    "        if fc > 0:\n",
    "            b = c\n",
    "            c = (a + c) / 2\n",
    "            \n",
    "        if fc < 0:\n",
    "            a = c\n",
    "            c = (b + c) / 2\n",
    "        \n",
    "        fc = func(c)\n",
    "        itr_count += 1\n",
    "        \n",
    "    print(\"Bisection Iteration Count: \", itr_count)\n",
    " \n",
    "    return c"
   ]
  },
  {
   "cell_type": "code",
   "execution_count": 14,
   "id": "a2d9d1db",
   "metadata": {},
   "outputs": [
    {
     "name": "stdout",
     "output_type": "stream",
     "text": [
      "Bisection Iteration Count:  23\n"
     ]
    },
    {
     "data": {
      "text/plain": [
       "4.965114235877991"
      ]
     },
     "execution_count": 14,
     "metadata": {},
     "output_type": "execute_result"
    }
   ],
   "source": [
    "bisection_method(weins_displacement_constant, 4, 6)"
   ]
  },
  {
   "cell_type": "markdown",
   "id": "a55e9442",
   "metadata": {},
   "source": [
    "## <center> Newtons Method </center> "
   ]
  },
  {
   "cell_type": "code",
   "execution_count": 29,
   "id": "22889883",
   "metadata": {},
   "outputs": [],
   "source": [
    "@jit(nopython = True)\n",
    "def hyperbolic_tangent(x):\n",
    "    \"\"\"\n",
    "    \n",
    "    \"\"\"\n",
    "    \n",
    "    return np.tanh(x)"
   ]
  },
  {
   "cell_type": "code",
   "execution_count": 30,
   "id": "29737078",
   "metadata": {},
   "outputs": [],
   "source": [
    "x = np.linspace(-5, 5, 1000)\n",
    "y = hyperbolic_tangent(x)"
   ]
  },
  {
   "cell_type": "code",
   "execution_count": 32,
   "id": "1e7f2dc0",
   "metadata": {},
   "outputs": [
    {
     "data": {
      "image/png": "[encoded data removed]",
      "text/plain": [
       "<Figure size 1000x500 with 1 Axes>"
      ]
     },
     "metadata": {},
     "output_type": "display_data"
    }
   ],
   "source": [
    "ax = sns.lineplot(\n",
    "    x = x,\n",
    "    y = y,\n",
    ")\n",
    "\n",
    "ax.set(\n",
    "    title = \"Hyperbolic Tangent\",\n",
    ")\n",
    "\n",
    "plt.show()"
   ]
  },
  {
   "cell_type": "code",
   "execution_count": null,
   "id": "91c9ddfb",
   "metadata": {},
   "outputs": [],
   "source": [
    "@jit(nopython = True)\n",
    "def newton_method():\n",
    "    \"\"\"\n",
    "    \n",
    "    \"\"\"\n",
    "    \n",
    "    return 0"
   ]
  },
  {
   "cell_type": "code",
   "execution_count": null,
   "id": "dd49263d",
   "metadata": {},
   "outputs": [],
   "source": []
  },
  {
   "cell_type": "markdown",
   "id": "909c556c",
   "metadata": {},
   "source": [
    "## <center> Newtons Method Two or More Variables </center>  "
   ]
  },
  {
   "cell_type": "code",
   "execution_count": null,
   "id": "2aec3ca6",
   "metadata": {},
   "outputs": [],
   "source": []
  },
  {
   "cell_type": "code",
   "execution_count": null,
   "id": "430fcc72",
   "metadata": {},
   "outputs": [],
   "source": []
  },
  {
   "cell_type": "code",
   "execution_count": null,
   "id": "b5cdd3de",
   "metadata": {},
   "outputs": [],
   "source": []
  },
  {
   "cell_type": "code",
   "execution_count": null,
   "id": "1fd0bd7a",
   "metadata": {},
   "outputs": [],
   "source": []
  },
  {
   "cell_type": "code",
   "execution_count": null,
   "id": "9d8370e4",
   "metadata": {},
   "outputs": [],
   "source": []
  },
  {
   "cell_type": "markdown",
   "id": "8eb91e81",
   "metadata": {},
   "source": [
    "## <center> Secant Method </center> "
   ]
  },
  {
   "cell_type": "code",
   "execution_count": null,
   "id": "384e37ed",
   "metadata": {},
   "outputs": [],
   "source": []
  },
  {
   "cell_type": "code",
   "execution_count": null,
   "id": "62ec475a",
   "metadata": {},
   "outputs": [],
   "source": []
  },
  {
   "cell_type": "code",
   "execution_count": null,
   "id": "3ec5879b",
   "metadata": {},
   "outputs": [],
   "source": []
  },
  {
   "cell_type": "code",
   "execution_count": null,
   "id": "4c94eed3",
   "metadata": {},
   "outputs": [],
   "source": []
  },
  {
   "cell_type": "code",
   "execution_count": null,
   "id": "85c1eddd",
   "metadata": {},
   "outputs": [],
   "source": []
  },
  {
   "cell_type": "markdown",
   "id": "887db754",
   "metadata": {},
   "source": [
    "## <center> Inverse Quadratic Interpolation </center> \n",
    "\n",
    "## <center> $ L = \\prod_{i \\neq j} \\frac{x - x_{i}}{x_{j} - x_{i}} $ </center>\n",
    "\n",
    "## <center> Quadratic Polynomial </center> \n",
    "\n",
    "## <center> $  $ </center> "
   ]
  },
  {
   "cell_type": "code",
   "execution_count": null,
   "id": "a2374e1b",
   "metadata": {},
   "outputs": [],
   "source": [
    "@jit(nopython = True)\n",
    "def inverse_quadratic_interpolation():\n",
    "    \"\"\"\n",
    "    \n",
    "    \"\"\"\n",
    "    \n",
    "    \n",
    "    \n",
    "    return 0"
   ]
  },
  {
   "cell_type": "markdown",
   "id": "67b2369f",
   "metadata": {},
   "source": [
    "## <center> Brents Method </center> "
   ]
  },
  {
   "cell_type": "code",
   "execution_count": null,
   "id": "250af878",
   "metadata": {},
   "outputs": [],
   "source": []
  },
  {
   "cell_type": "code",
   "execution_count": null,
   "id": "6a564a4b",
   "metadata": {},
   "outputs": [],
   "source": []
  },
  {
   "cell_type": "code",
   "execution_count": null,
   "id": "8d0771a9",
   "metadata": {},
   "outputs": [],
   "source": []
  },
  {
   "cell_type": "code",
   "execution_count": null,
   "id": "26e5ac37",
   "metadata": {},
   "outputs": [],
   "source": []
  },
  {
   "cell_type": "markdown",
   "id": "c85e66ea",
   "metadata": {},
   "source": [
    "## <center> Riddlers Method </center> "
   ]
  },
  {
   "cell_type": "code",
   "execution_count": null,
   "id": "f781d130",
   "metadata": {},
   "outputs": [],
   "source": []
  },
  {
   "cell_type": "code",
   "execution_count": null,
   "id": "ec900b5a",
   "metadata": {},
   "outputs": [],
   "source": []
  },
  {
   "cell_type": "code",
   "execution_count": null,
   "id": "b15e4f7d",
   "metadata": {},
   "outputs": [],
   "source": []
  },
  {
   "cell_type": "code",
   "execution_count": null,
   "id": "6f1b4b6d",
   "metadata": {},
   "outputs": [],
   "source": []
  },
  {
   "cell_type": "code",
   "execution_count": null,
   "id": "d28ef3d1",
   "metadata": {},
   "outputs": [],
   "source": []
  },
  {
   "cell_type": "code",
   "execution_count": null,
   "id": "3e898166",
   "metadata": {},
   "outputs": [],
   "source": []
  }
 ],
 "metadata": {
  "kernelspec": {
   "display_name": "Python 3 (ipykernel)",
   "language": "python",
   "name": "python3"
  },
  "language_info": {
   "codemirror_mode": {
    "name": "ipython",
    "version": 3
   },
   "file_extension": ".py",
   "mimetype": "text/x-python",
   "name": "python",
   "nbconvert_exporter": "python",
   "pygments_lexer": "ipython3",
   "version": "3.10.2"
  }
 },
 "nbformat": 4,
 "nbformat_minor": 5
}
