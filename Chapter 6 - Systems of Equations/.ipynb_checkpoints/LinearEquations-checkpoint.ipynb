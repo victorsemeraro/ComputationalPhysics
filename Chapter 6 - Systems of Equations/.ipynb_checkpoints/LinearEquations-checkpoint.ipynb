{
 "cells": [
  {
   "cell_type": "markdown",
   "id": "3d76ee2e",
   "metadata": {},
   "source": [
    "# <center> <u> Simultaneous Linear Equations </u> </center> \n",
    "\n",
    "## 1. <u> Gaussian Elimination </u>\n",
    "\n",
    "#### - \n",
    "\n",
    "## 2. <u> Backsubstitution </u>\n",
    "\n",
    "#### - \n",
    "\n",
    "## 3. <u> Pivoting </u>\n",
    "\n",
    "#### - \n",
    "\n",
    "## 4. <u> LU Decomposition </u>\n",
    "\n",
    "#### - \n",
    "\n",
    "## 5. <u> Cholesky Decomposition </u> \n",
    "\n",
    "#### - \n",
    "\n",
    "## 6. <u> Matrix Inverse </u>\n",
    "\n",
    "#### - \n",
    "\n",
    "## 7. <u> Tridiagonal Matrix </u>\n",
    "\n",
    "#### - "
   ]
  },
  {
   "cell_type": "code",
   "execution_count": 1,
   "id": "7bf90f5a",
   "metadata": {},
   "outputs": [],
   "source": [
    "import numpy as np\n",
    "from numba import jit \n",
    "import matplotlib.pyplot as plt"
   ]
  },
  {
   "cell_type": "markdown",
   "id": "e0eeac7d",
   "metadata": {},
   "source": [
    "## <center> Linear System of Equations </center> \n",
    "\n",
    "## <center> $ Ax = v $ </center>"
   ]
  },
  {
   "cell_type": "markdown",
   "id": "9490fdf4",
   "metadata": {},
   "source": [
    "## <center> $ \\begin{pmatrix} 2 & 1 & 4 & 1 \\\\ 3 & 4 & -1 & -1 \\\\ 1 & -4 & 1 & 5 \\\\ 2 & -2 & 1 & 3\\end{pmatrix} \n",
    "               \\begin{pmatrix} w \\\\ x \\\\ y \\\\ z \\end{pmatrix} = \n",
    "               \\begin{pmatrix} -4 \\\\ 3 \\\\ 9 \\\\ 7 \\end{pmatrix}$ \n",
    "</center>"
   ]
  },
  {
   "cell_type": "code",
   "execution_count": 9,
   "id": "99f31e6f",
   "metadata": {},
   "outputs": [
    {
     "data": {
      "text/plain": [
       "array([[ 2.,  1.,  4.,  1.],\n",
       "       [ 3.,  4., -1., -1.],\n",
       "       [ 1., -4.,  1.,  5.],\n",
       "       [ 2., -2.,  1.,  3.]])"
      ]
     },
     "metadata": {},
     "output_type": "display_data"
    }
   ],
   "source": [
    "A = np.array([\n",
    "    [2, 1, 4, 1],\n",
    "    [3, 4, -1, -1],\n",
    "    [1, -4, 1, 5],\n",
    "    [2, -2, 1, 3],\n",
    "], dtype = float)\n",
    "\n",
    "display(A)"
   ]
  },
  {
   "cell_type": "code",
   "execution_count": 10,
   "id": "dc471af6",
   "metadata": {},
   "outputs": [
    {
     "data": {
      "text/plain": [
       "array([-4.,  3.,  9.,  7.])"
      ]
     },
     "metadata": {},
     "output_type": "display_data"
    }
   ],
   "source": [
    "v = np.array([-4, 3, 9, 7], dtype = float)\n",
    "\n",
    "display(v)"
   ]
  },
  {
   "cell_type": "markdown",
   "id": "73bda8d4",
   "metadata": {},
   "source": [
    "## <center> Gaussian Elimination </center> "
   ]
  },
  {
   "cell_type": "code",
   "execution_count": 13,
   "id": "d78b93ba",
   "metadata": {},
   "outputs": [],
   "source": [
    "@jit(nopython = True)\n",
    "def gaussian_elimination(A, v):\n",
    "    \"\"\"\n",
    "    - Divide by Diagonal Element \n",
    "    - Subtract from Lower Rows \n",
    "    \"\"\"\n",
    "    \n",
    "    N = len(v)\n",
    "    \n",
    "    for i in range(N):\n",
    "        \n",
    "        # Divide by Diagonal Element \n",
    "        div = A[i, i]\n",
    "        A[i, :] /= div\n",
    "        v[i] /= div\n",
    "        \n",
    "        # Subtract From Lower Rows \n",
    "        for j in range(i+1, N):\n",
    "            mult = A[j, i]\n",
    "            A[j, :] -= mult * A[i, :]\n",
    "            v[j] -= mult * v[i]\n",
    "        \n",
    "    return A, v"
   ]
  },
  {
   "cell_type": "code",
   "execution_count": 14,
   "id": "7695d922",
   "metadata": {},
   "outputs": [],
   "source": [
    "A, v = gaussian_elimination(A, v)"
   ]
  },
  {
   "cell_type": "markdown",
   "id": "e61d906c",
   "metadata": {},
   "source": [
    "## <center> $ \\begin{pmatrix} 1 & 0.5 & 2 & 0.5 \\\\ 0 & 1 & -2.8 & -1 \\\\ 0 & 0 & 1 & 0 \\\\ 0 & 0 & 0 & 1\\end{pmatrix} \n",
    "               \\begin{pmatrix} w \\\\ x \\\\ y \\\\ z \\end{pmatrix} = \n",
    "               \\begin{pmatrix} -2 \\\\ 3.6 \\\\ -2 \\\\ 1 \\end{pmatrix}$ \n",
    "</center>"
   ]
  },
  {
   "cell_type": "code",
   "execution_count": 15,
   "id": "08d09e26",
   "metadata": {},
   "outputs": [
    {
     "data": {
      "text/plain": [
       "array([[ 1. ,  0.5,  2. ,  0.5],\n",
       "       [ 0. ,  1. , -2.8, -1. ],\n",
       "       [ 0. ,  0. ,  1. ,  0. ],\n",
       "       [ 0. ,  0. ,  0. ,  1. ]])"
      ]
     },
     "metadata": {},
     "output_type": "display_data"
    }
   ],
   "source": [
    "display(A)"
   ]
  },
  {
   "cell_type": "code",
   "execution_count": 16,
   "id": "48a59f46",
   "metadata": {},
   "outputs": [
    {
     "data": {
      "text/plain": [
       "array([-2. ,  3.6, -2. ,  1. ])"
      ]
     },
     "metadata": {},
     "output_type": "display_data"
    }
   ],
   "source": [
    "display(v)"
   ]
  },
  {
   "cell_type": "markdown",
   "id": "fa426c85",
   "metadata": {},
   "source": [
    "## <center> Backsubstitution </center> "
   ]
  },
  {
   "cell_type": "markdown",
   "id": "70b6c9f5",
   "metadata": {},
   "source": [
    "## <center> $ \\begin{pmatrix} 1 & a_{01} & a_{02} & a_{03} \\\\ 0 & 1 & a_{12} & a_{13} \\\\ 0 & 0 & 1 & a_{23} \\\\ 0 & 0 & 0 & 1\\end{pmatrix} \n",
    "               \\begin{pmatrix} w \\\\ x \\\\ y \\\\ z \\end{pmatrix} = \n",
    "               \\begin{pmatrix} v_{0} \\\\ v_{1} \\\\ v_{2} \\\\ v_{3} \\end{pmatrix}$ \n",
    "</center>"
   ]
  },
  {
   "cell_type": "markdown",
   "id": "3c0541d7",
   "metadata": {},
   "source": [
    "## <center> $ w + a_{01}x + a_{02}y + a_{03} z = v_{0} $ </center>\n",
    "\n",
    "## <center> $ x + a_{12}y + a_{13} z = v_{1} $ </center>\n",
    "\n",
    "## <center> $ y + a_{23} z = v_{2} $ </center>\n",
    "\n",
    "## <center> $ z = v_{3} $ </center>"
   ]
  },
  {
   "cell_type": "code",
   "execution_count": 17,
   "id": "b6808e84",
   "metadata": {},
   "outputs": [],
   "source": [
    "@jit(nopython = True)\n",
    "def backsubstitution(A, v):\n",
    "    \"\"\"\n",
    "    \n",
    "    \"\"\"\n",
    "    \n",
    "    N = len(v)\n",
    "    x = np.zeros(N)\n",
    "    \n",
    "    for i in range(N - 1, -1, -1):\n",
    "        x[i] = v[i]\n",
    "        \n",
    "        for j in range(i+1, N):\n",
    "            x[i] -= A[i, j] * x[j]\n",
    "    \n",
    "    return x"
   ]
  },
  {
   "cell_type": "code",
   "execution_count": 18,
   "id": "b46da0b0",
   "metadata": {},
   "outputs": [],
   "source": [
    "x = backsubstitution(A, v)"
   ]
  },
  {
   "cell_type": "markdown",
   "id": "1b81c12c",
   "metadata": {},
   "source": [
    "## <center> $ w + 0.5x + 2y + 0.5z = -2 $ </center>\n",
    "\n",
    "## <center> $ x - 2.8y - 1z = 3.6 $ </center>\n",
    "\n",
    "## <center> $ y + 0z = -2 $ </center>\n",
    "\n",
    "## <center> $ z = 1 $ </center>"
   ]
  },
  {
   "cell_type": "code",
   "execution_count": 19,
   "id": "9d9c6c02",
   "metadata": {},
   "outputs": [
    {
     "data": {
      "text/plain": [
       "array([ 2., -1., -2.,  1.])"
      ]
     },
     "metadata": {},
     "output_type": "display_data"
    }
   ],
   "source": [
    "display(x)"
   ]
  },
  {
   "cell_type": "markdown",
   "id": "5ca3b340",
   "metadata": {},
   "source": [
    "## <center> Pivoting </center> "
   ]
  },
  {
   "cell_type": "code",
   "execution_count": null,
   "id": "f27ecb89",
   "metadata": {},
   "outputs": [],
   "source": []
  },
  {
   "cell_type": "code",
   "execution_count": null,
   "id": "1b948c9d",
   "metadata": {},
   "outputs": [],
   "source": []
  },
  {
   "cell_type": "code",
   "execution_count": null,
   "id": "9418b175",
   "metadata": {},
   "outputs": [],
   "source": []
  },
  {
   "cell_type": "markdown",
   "id": "a65e325c",
   "metadata": {},
   "source": [
    "## <center> LU Decomposition </center> "
   ]
  },
  {
   "cell_type": "code",
   "execution_count": null,
   "id": "b99f9ff6",
   "metadata": {},
   "outputs": [],
   "source": []
  },
  {
   "cell_type": "code",
   "execution_count": null,
   "id": "3e97c321",
   "metadata": {},
   "outputs": [],
   "source": []
  },
  {
   "cell_type": "code",
   "execution_count": null,
   "id": "0c26357a",
   "metadata": {},
   "outputs": [],
   "source": []
  },
  {
   "cell_type": "markdown",
   "id": "af13cff1",
   "metadata": {},
   "source": [
    "## <center> Matrix Inverse </center> "
   ]
  },
  {
   "cell_type": "markdown",
   "id": "01ecc632",
   "metadata": {},
   "source": [
    "## <center> $ AX = I $ </center> "
   ]
  },
  {
   "cell_type": "code",
   "execution_count": null,
   "id": "3a44a7f4",
   "metadata": {},
   "outputs": [],
   "source": []
  },
  {
   "cell_type": "code",
   "execution_count": null,
   "id": "578d66a3",
   "metadata": {},
   "outputs": [],
   "source": []
  },
  {
   "cell_type": "code",
   "execution_count": null,
   "id": "77fb4ad6",
   "metadata": {},
   "outputs": [],
   "source": []
  },
  {
   "cell_type": "markdown",
   "id": "ea751419",
   "metadata": {},
   "source": [
    "## <center> Tridiagonal Matrix </center> "
   ]
  },
  {
   "cell_type": "code",
   "execution_count": null,
   "id": "2d2e8f9a",
   "metadata": {},
   "outputs": [],
   "source": []
  },
  {
   "cell_type": "code",
   "execution_count": null,
   "id": "63100137",
   "metadata": {},
   "outputs": [],
   "source": []
  },
  {
   "cell_type": "code",
   "execution_count": null,
   "id": "157345b4",
   "metadata": {},
   "outputs": [],
   "source": []
  },
  {
   "cell_type": "code",
   "execution_count": null,
   "id": "9bda77ad",
   "metadata": {},
   "outputs": [],
   "source": []
  }
 ],
 "metadata": {
  "kernelspec": {
   "display_name": "Python 3 (ipykernel)",
   "language": "python",
   "name": "python3"
  },
  "language_info": {
   "codemirror_mode": {
    "name": "ipython",
    "version": 3
   },
   "file_extension": ".py",
   "mimetype": "text/x-python",
   "name": "python",
   "nbconvert_exporter": "python",
   "pygments_lexer": "ipython3",
   "version": "3.10.2"
  }
 },
 "nbformat": 4,
 "nbformat_minor": 5
}
