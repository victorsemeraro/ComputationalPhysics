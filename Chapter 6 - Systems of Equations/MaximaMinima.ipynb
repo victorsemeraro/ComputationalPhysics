{
 "cells": [
  {
   "cell_type": "markdown",
   "id": "741cf890",
   "metadata": {},
   "source": [
    "# <center> <u> Maxima and Minima of Functions </u> </center>\n",
    "\n",
    "## 1. <u> Golden Search Method </u>\n",
    "\n",
    "#### - Bracketing Method. \n",
    "#### - Guaranteed to Converge. \n",
    "\n",
    "## 2. <u> Gradient Descent </u> \n",
    "\n",
    "#### - Derivative Method. \n",
    "#### - \n",
    "\n",
    "## 3. <u> Line Search </u>\n",
    "\n",
    "#### - \n",
    "\n",
    "## 4. <u> Powells Method </u> \n",
    "\n",
    "#### - Leverages Golden Search or Brents Method. \n",
    "#### - \n",
    "\n",
    "## 5. <u> Conjugate Gradient Method </u>\n",
    "\n",
    "#### - \n",
    "\n",
    "## 6. <u> BFGS Method </u> \n",
    "\n",
    "#### - "
   ]
  },
  {
   "cell_type": "code",
   "execution_count": 1,
   "id": "46cf52ce",
   "metadata": {},
   "outputs": [],
   "source": [
    "import numpy as np\n",
    "from numba import jit \n",
    "import seaborn as sns\n",
    "import matplotlib.pyplot as plt"
   ]
  },
  {
   "cell_type": "markdown",
   "id": "70afcf07",
   "metadata": {},
   "source": [
    "## <center> Seaborn Plot Configuration </center> "
   ]
  },
  {
   "cell_type": "code",
   "execution_count": 2,
   "id": "78612cdb",
   "metadata": {},
   "outputs": [],
   "source": [
    "sns.set_theme(\n",
    "    style = \"darkgrid\",\n",
    "    palette = \"bright\",\n",
    ")\n",
    "\n",
    "plt.rc('figure', figsize = (10, 5))"
   ]
  },
  {
   "cell_type": "markdown",
   "id": "2380be42",
   "metadata": {},
   "source": [
    "## <center> Golden Search Derivation </center> \n",
    "\n",
    "## <center> $ x_{2} - x_{1} = x_{4} - x_{3} $ </center>\n",
    "\n",
    "## <center> $ z = \\frac{x_{4} - x_{1}}{x_{3} - x_{1}} = \\frac{x_{2} - x_{1} + x_{3} - x_{1}}{x_{3} - x_{1}} = \\frac{x_{2} - x_{1}}{x_{3} - x_{1}} + 1 $ </center> \n",
    "\n",
    "## <center> $ z = \\frac{x_{3} - x_{1}}{x_{2} - x_{1}} $ </center> \n",
    "\n",
    "## <center> $ z = z^{2} - z - 1 = 0 $ </center>\n",
    "\n",
    "## <center> $ z = \\frac{1 + \\sqrt{5}}{2} = 1.618 $ </center>"
   ]
  },
  {
   "cell_type": "code",
   "execution_count": 3,
   "id": "4af55863",
   "metadata": {},
   "outputs": [],
   "source": [
    "@jit(nopython = True)\n",
    "def golden_ratio_search(func, x1, x2, x3, x4):\n",
    "    \"\"\"\n",
    "    Optimizes an Objective Function \n",
    "    \n",
    "    Inputs: \n",
    "    - func: The Objective Function \n",
    "    - x1: \n",
    "    - x2: \n",
    "    - x3:\n",
    "    - x4: \n",
    "    \n",
    "    Output: \n",
    "    - The Optimized Value\n",
    "    \"\"\"\n",
    "    \n",
    "    err_tol = 1e-7\n",
    "    z = 1.618\n",
    "        \n",
    "    f1 = func(x1)\n",
    "    f2 = func(x2)\n",
    "    f3 = func(x3)\n",
    "    f4 = func(x4)\n",
    "    \n",
    "    itr_count = 0\n",
    "    while (x4 - x1) > err_tol:\n",
    "\n",
    "        if f2 < f3:\n",
    "            x4, f4 = x3, f3\n",
    "            x3, f3 = x2, f2\n",
    "            x2 = x4 - (x4 - x1) / z\n",
    "            f2 = func(x2)\n",
    "            \n",
    "        else:\n",
    "            x1, f1 = x2, f2\n",
    "            x2, f2 = x3, f3\n",
    "            x3 = x1 + (x4 - x1) / z\n",
    "            f3 = func(x3)\n",
    "            \n",
    "        itr_count += 1\n",
    "    \n",
    "    print(\"Golden Ratio Search Iteration Count: \", itr_count)\n",
    "        \n",
    "    return 0.5 * (x4 + x1)"
   ]
  },
  {
   "cell_type": "markdown",
   "id": "82c1bc1c",
   "metadata": {},
   "source": [
    "## <center> The Buckingham Potential </center> \n",
    "\n",
    "## <center> $ V(r) = V_{0} \\cdot [(\\frac{\\sigma}{r})^{6} - e^{-r / \\sigma}]  $ </center>"
   ]
  },
  {
   "cell_type": "code",
   "execution_count": 4,
   "id": "09fbe0ea",
   "metadata": {},
   "outputs": [],
   "source": [
    "@jit(nopython = True)\n",
    "def buckingham_potential(r):\n",
    "    \"\"\"\n",
    "    \n",
    "    \"\"\"\n",
    "    \n",
    "    V0 = 1\n",
    "    sigma = 1\n",
    "    \n",
    "    return V0 * ((sigma / r)**6 - np.exp(-r / sigma))"
   ]
  },
  {
   "cell_type": "code",
   "execution_count": 5,
   "id": "a376269a",
   "metadata": {
    "scrolled": false
   },
   "outputs": [
    {
     "data": {
      "image/png": "[encoded data removed]",
      "text/plain": [
       "<Figure size 1000x500 with 1 Axes>"
      ]
     },
     "metadata": {},
     "output_type": "display_data"
    }
   ],
   "source": [
    "N = 1000\n",
    "\n",
    "lower = 1\n",
    "upper = 6\n",
    "r = np.linspace(lower, upper, N)\n",
    "\n",
    "buckingham = buckingham_potential(r)\n",
    "\n",
    "fig = sns.lineplot(\n",
    "    x = r, \n",
    "    y = buckingham,\n",
    ")\n",
    "\n",
    "fig.set(\n",
    "    title = \"Buckingham Potential\",\n",
    "    xlabel = \"$ r / \\sigma $\",\n",
    "    ylabel = \"$ V / V_{0} $\",\n",
    ")\n",
    "\n",
    "plt.show()"
   ]
  },
  {
   "cell_type": "code",
   "execution_count": 6,
   "id": "b487ff6e",
   "metadata": {},
   "outputs": [
    {
     "name": "stdout",
     "output_type": "stream",
     "text": [
      "Golden Ratio Search Iteration Count:  36\n"
     ]
    },
    {
     "data": {
      "text/plain": [
       "1.5885834323724968"
      ]
     },
     "execution_count": 6,
     "metadata": {},
     "output_type": "execute_result"
    }
   ],
   "source": [
    "x1 = 1\n",
    "x2 = 3\n",
    "x3 = 4\n",
    "x4 = 6\n",
    "golden_ratio_search(buckingham_potential, x1, x2, x3, x4)"
   ]
  },
  {
   "cell_type": "markdown",
   "id": "6adcec02",
   "metadata": {},
   "source": [
    "## <center> Gradient Descent </center> \n",
    "\n",
    "## <center> $ f'(x) = 0 $ </center>\n",
    "\n",
    "## <center> $ x' = x - \\gamma f'(x) $ </center>\n",
    "\n",
    "## <center> $ \\gamma \\approx \\frac{1}{f''(x)} $ </center>"
   ]
  },
  {
   "cell_type": "code",
   "execution_count": 7,
   "id": "b565449c",
   "metadata": {},
   "outputs": [],
   "source": [
    "@jit(nopython = True)\n",
    "def gradient_descent(func, x):\n",
    "    \"\"\"\n",
    "    Optimizes an Objective Function \n",
    "    \n",
    "    Input: \n",
    "    - func: The Objective Function\n",
    "    - x: Initial Guess\n",
    "    \n",
    "    Output:\n",
    "    - The Optimized Value\n",
    "    \"\"\"\n",
    "    \n",
    "    err_tol = 1e-7\n",
    "    \n",
    "    gradient = func(x)\n",
    "    gamma = 0.3\n",
    "    \n",
    "    x = x - gamma * gradient\n",
    "    \n",
    "    itr_count = 0\n",
    "    while np.abs(gradient) > err_tol:\n",
    "        \n",
    "        gradient = func(x)\n",
    "        x = x - gamma * gradient\n",
    "        \n",
    "        itr_count += 1\n",
    "    \n",
    "    print(\"Gradient Descent Iteration Count: \", itr_count)\n",
    "    \n",
    "    return x"
   ]
  },
  {
   "cell_type": "markdown",
   "id": "cf877d81",
   "metadata": {},
   "source": [
    "## <center> Newton Raphson Method </center> \n",
    "\n",
    "## <center> $ x' = x - \\frac{f'(x)}{f''(x)} $ </center>"
   ]
  },
  {
   "cell_type": "code",
   "execution_count": 8,
   "id": "26dffe9b",
   "metadata": {},
   "outputs": [],
   "source": [
    "@jit(nopython = True)\n",
    "def newton_raphson_method(func1, func2, x):\n",
    "    \"\"\"\n",
    "    \n",
    "    \"\"\"\n",
    "    \n",
    "    err_tol = 1e-7\n",
    "    \n",
    "    gradient = func1(x)\n",
    "    gamma = func2(x)\n",
    "    \n",
    "    x = x - (gradient / gamma)\n",
    "    \n",
    "    itr_count = 0\n",
    "    while np.abs(gradient) > err_tol:\n",
    "        \n",
    "        gradient = func1(x)\n",
    "        gamma = func2(x)\n",
    "\n",
    "        x = x - (gradient / gamma)\n",
    "        \n",
    "        itr_count += 1\n",
    "    \n",
    "    print(\"Newton Raphson Iteration Count: \", itr_count)\n",
    "    \n",
    "    return x"
   ]
  },
  {
   "cell_type": "markdown",
   "id": "4b34b31b",
   "metadata": {},
   "source": [
    "## <center> The Buckingham Potential Gradient </center> \n",
    "\n",
    "## <center> $ \\frac{\\partial{V}}{\\partial{r}} [V(r)] = V_{0} \\cdot [(\\frac{\\sigma}{r})^{6} - e^{-r / \\sigma}]  $ </center>\n",
    "\n",
    "## <center> $ V_{0} \\frac{\\partial{V}}{\\partial{r}} [ \\frac{\\sigma}{r}^{6} - e^{-r / \\sigma}] $ </center> \n",
    "\n",
    "## <center> $ V_{0} [-6 \\frac{\\sigma^6}{r^7} + \\frac{e^{-r / \\sigma}}{\\sigma} ] $ </center> "
   ]
  },
  {
   "cell_type": "code",
   "execution_count": 9,
   "id": "c84ad210",
   "metadata": {},
   "outputs": [],
   "source": [
    "@jit(nopython = True)\n",
    "def buckingham_potential_gradient(r):\n",
    "    \"\"\"\n",
    "    \n",
    "    \"\"\"\n",
    "        \n",
    "    V0 = 1\n",
    "    sigma = 1\n",
    "    \n",
    "    return V0 * ((-6 * sigma**6 / r**7) + (np.exp(-r / sigma) / sigma))"
   ]
  },
  {
   "cell_type": "markdown",
   "id": "1b505077",
   "metadata": {},
   "source": [
    "## <center> The Buckingham Potential Hessian </center> \n",
    "\n",
    "## <center> $ V_{0} \\frac{\\partial^2{V}}{\\partial{r}^2} [\\frac{\\sigma^6}{r^8} - \\frac{e^{-r / \\sigma}}{\\sigma^2}] $ </center> \n",
    "\n",
    "## <center> $ V_{0} [42 \\frac{\\sigma^6}{r^8} - \\frac{e^{-r / \\sigma}}{\\sigma^2}] $ </center>"
   ]
  },
  {
   "cell_type": "code",
   "execution_count": 10,
   "id": "44c80016",
   "metadata": {},
   "outputs": [],
   "source": [
    "@jit(nopython = True)\n",
    "def buckingham_potential_hessian(r):\n",
    "    \"\"\"\n",
    "    \n",
    "    \"\"\"\n",
    "    \n",
    "    V0 = 1\n",
    "    sigma = 1\n",
    "    \n",
    "    return V0 * ((42 * sigma**6 / r**8) - (np.exp(-r / sigma)) / sigma**2)"
   ]
  },
  {
   "cell_type": "code",
   "execution_count": 11,
   "id": "2be481b5",
   "metadata": {},
   "outputs": [
    {
     "name": "stdout",
     "output_type": "stream",
     "text": [
      "Gradient Descent Iteration Count:  107\n"
     ]
    },
    {
     "data": {
      "text/plain": [
       "1.630516046384508"
      ]
     },
     "execution_count": 11,
     "metadata": {},
     "output_type": "execute_result"
    }
   ],
   "source": [
    "x = 1\n",
    "gradient_descent(buckingham_potential_gradient, x)"
   ]
  },
  {
   "cell_type": "code",
   "execution_count": 12,
   "id": "9e91fa84",
   "metadata": {},
   "outputs": [
    {
     "name": "stdout",
     "output_type": "stream",
     "text": [
      "Newton Raphson Iteration Count:  8\n"
     ]
    },
    {
     "data": {
      "text/plain": [
       "1.6305159287146183"
      ]
     },
     "execution_count": 12,
     "metadata": {},
     "output_type": "execute_result"
    }
   ],
   "source": [
    "x = 1\n",
    "newton_raphson_method(buckingham_potential_gradient, buckingham_potential_hessian, x)"
   ]
  },
  {
   "cell_type": "markdown",
   "id": "8d82178d",
   "metadata": {},
   "source": [
    "## <center> Numerical Gradient Descent </center> \n",
    "\n",
    "## <center> $ x_{3}' = x_{2} - \\gamma \\frac{f(x_{2}) - f(x_{1})}{x_{2} - x_{1}} $ </center>"
   ]
  },
  {
   "cell_type": "code",
   "execution_count": 13,
   "id": "d89eb1af",
   "metadata": {},
   "outputs": [],
   "source": [
    "@jit(nopython = True)\n",
    "def numerical_gradient_descent():\n",
    "    \"\"\"\n",
    "    \n",
    "    \"\"\"\n",
    "    \n",
    "    return 0"
   ]
  },
  {
   "cell_type": "code",
   "execution_count": null,
   "id": "2d6d1b22",
   "metadata": {},
   "outputs": [],
   "source": []
  },
  {
   "cell_type": "code",
   "execution_count": 14,
   "id": "5ac51c16",
   "metadata": {},
   "outputs": [],
   "source": [
    "@jit(nopython = True)\n",
    "def numerical_newton_raphson():\n",
    "    \"\"\"\n",
    "    \n",
    "    \"\"\"\n",
    "    \n",
    "    return 0"
   ]
  },
  {
   "cell_type": "code",
   "execution_count": null,
   "id": "d69d3ff6",
   "metadata": {},
   "outputs": [],
   "source": []
  },
  {
   "cell_type": "code",
   "execution_count": null,
   "id": "8aa2e804",
   "metadata": {},
   "outputs": [],
   "source": []
  },
  {
   "cell_type": "markdown",
   "id": "946cf1e5",
   "metadata": {},
   "source": [
    "## <center> Powells Method </center> "
   ]
  },
  {
   "cell_type": "code",
   "execution_count": null,
   "id": "07b8cdb4",
   "metadata": {},
   "outputs": [],
   "source": []
  },
  {
   "cell_type": "code",
   "execution_count": null,
   "id": "3fa6dea3",
   "metadata": {},
   "outputs": [],
   "source": []
  },
  {
   "cell_type": "markdown",
   "id": "cc56eaa2",
   "metadata": {},
   "source": [
    "## <center> Conjugate Gradient Method </center> "
   ]
  },
  {
   "cell_type": "code",
   "execution_count": null,
   "id": "93daa115",
   "metadata": {},
   "outputs": [],
   "source": []
  },
  {
   "cell_type": "code",
   "execution_count": null,
   "id": "899d9444",
   "metadata": {},
   "outputs": [],
   "source": []
  },
  {
   "cell_type": "markdown",
   "id": "4add3d83",
   "metadata": {},
   "source": [
    "## <center> BFGS Method </center> "
   ]
  },
  {
   "cell_type": "code",
   "execution_count": null,
   "id": "6c77d0d4",
   "metadata": {},
   "outputs": [],
   "source": []
  },
  {
   "cell_type": "code",
   "execution_count": null,
   "id": "ec6dba98",
   "metadata": {},
   "outputs": [],
   "source": []
  },
  {
   "cell_type": "code",
   "execution_count": null,
   "id": "3fa011ed",
   "metadata": {},
   "outputs": [],
   "source": []
  },
  {
   "cell_type": "code",
   "execution_count": null,
   "id": "d4e42dce",
   "metadata": {},
   "outputs": [],
   "source": []
  }
 ],
 "metadata": {
  "kernelspec": {
   "display_name": "Python 3 (ipykernel)",
   "language": "python",
   "name": "python3"
  },
  "language_info": {
   "codemirror_mode": {
    "name": "ipython",
    "version": 3
   },
   "file_extension": ".py",
   "mimetype": "text/x-python",
   "name": "python",
   "nbconvert_exporter": "python",
   "pygments_lexer": "ipython3",
   "version": "3.10.2"
  }
 },
 "nbformat": 4,
 "nbformat_minor": 5
}
